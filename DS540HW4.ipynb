{
  "nbformat": 4,
  "nbformat_minor": 0,
  "metadata": {
    "colab": {
      "provenance": []
    },
    "kernelspec": {
      "name": "python3",
      "display_name": "Python 3"
    },
    "language_info": {
      "name": "python"
    }
  },
  "cells": [
    {
      "cell_type": "markdown",
      "source": [
        "##Question 1"
      ],
      "metadata": {
        "id": "QkSMvz--UBN0"
      }
    },
    {
      "cell_type": "code",
      "execution_count": null,
      "metadata": {
        "colab": {
          "base_uri": "https://localhost:8080/"
        },
        "id": "_WY7d36lT-HF",
        "outputId": "8f5fab7f-e530-454b-e8ba-b8396029da29"
      },
      "outputs": [
        {
          "output_type": "stream",
          "name": "stdout",
          "text": [
            "1-NN: +\n",
            "3-NN: -\n",
            "5-NN: +\n",
            "9-NN: -\n",
            "******************************************part b ************************************************************\n",
            "1-NN (weighted): +\n",
            "3-NN (weighted): +\n",
            "9-NN (weighted): +\n"
          ]
        }
      ],
      "source": [
        "import numpy as np\n",
        "\n",
        "x = np.array([0.5, 3.0, 4.5, 4.6, 4.9, 5.2, 5.3, 5.5, 7.0, 9.5])\n",
        "y = np.array(['-', '-', '+', '+', '+', '-', '-', '+', '-', '-'])\n",
        "def knn_majority(query, k):\n",
        "    distances = np.abs(x - query)\n",
        "    sorted_indices = np.argsort(distances)\n",
        "    neighbors = y[sorted_indices[:k]]\n",
        "    unique, counts = np.unique(neighbors, return_counts=True)\n",
        "    return unique[np.argmax(counts)]\n",
        "\n",
        "print(\"1-NN:\", knn_majority(5.0, 1))\n",
        "print(\"3-NN:\", knn_majority(5.0, 3))\n",
        "print(\"5-NN:\", knn_majority(5.0, 5))\n",
        "print(\"9-NN:\", knn_majority(5.0, 9))\n",
        "print(\"******************************************part b ************************************************************\")\n",
        "\n",
        "def knn_weighted(query, k):\n",
        "    distances = np.abs(x - query)\n",
        "    sorted_indices = np.argsort(distances)[:k]\n",
        "    weights = 1 / (distances[sorted_indices] + 1e-6)\n",
        "    classes = y[sorted_indices]\n",
        "    weighted_votes = {'+': 0, '-': 0}\n",
        "    for cls, w in zip(classes, weights):\n",
        "        weighted_votes[cls] += w\n",
        "    return max(weighted_votes, key=weighted_votes.get)\n",
        "\n",
        "print(\"1-NN (weighted):\", knn_weighted(5.0, 1))\n",
        "print(\"3-NN (weighted):\", knn_weighted(5.0, 3))\n",
        "print(\"9-NN (weighted):\", knn_weighted(5.0, 9))\n"
      ]
    },
    {
      "cell_type": "markdown",
      "source": [
        "##Question 2"
      ],
      "metadata": {
        "id": "L6rv9TKBUTiB"
      }
    },
    {
      "cell_type": "code",
      "source": [
        "# Home Owner could be modelled as follows for this :\n",
        "home_owner = {\n",
        "    'Yes': {'+': 3, '-': 2},\n",
        "    'No': {'+': 4, '-': 6}\n",
        "}\n",
        "\n",
        "# Marital Status can be modelled as follows as Dr.Liu mentioned we could use a dictionary to model the data during office hours.\n",
        "marital_status = {\n",
        "    'Single': {'+': 2, '-': 3},\n",
        "    'Married': {'+': 4, '-': 4},\n",
        "    'Divorced': {'+': 1, '-': 1}\n",
        "}\n",
        "\n",
        "def mvdm(v1, v2, data):\n",
        "    n1_total = sum(data[v1].values())\n",
        "    n2_total = sum(data[v2].values())\n",
        "    distance = 0\n",
        "    for cls in ['+', '-']:\n",
        "        distance += abs(data[v1][cls]/n1_total - data[v2][cls]/n2_total)\n",
        "    return distance\n",
        "\n",
        "print(\"Home Owner (Yes vs No):\", mvdm('Yes', 'No', home_owner))\n",
        "print(\"Marital Status (Single vs Married):\", mvdm('Single', 'Married', marital_status))"
      ],
      "metadata": {
        "colab": {
          "base_uri": "https://localhost:8080/"
        },
        "id": "ZsJfeD6nURJa",
        "outputId": "7085457e-1065-4756-a6cc-be80eb153ab7"
      },
      "execution_count": null,
      "outputs": [
        {
          "output_type": "stream",
          "name": "stdout",
          "text": [
            "Home Owner (Yes vs No): 0.3999999999999999\n",
            "Marital Status (Single vs Married): 0.19999999999999996\n"
          ]
        }
      ]
    },
    {
      "cell_type": "markdown",
      "source": [
        "##Question 3\n",
        "##***All parts from a-d included ***"
      ],
      "metadata": {
        "id": "NH5VYgzPVon3"
      }
    },
    {
      "cell_type": "code",
      "source": [
        "import pandas as pd\n",
        "\n",
        "data = pd.DataFrame({\n",
        "    'True Class': ['+', '+', '-', '-', '+', '+', '-', '-', '+', '-'],\n",
        "    'M1': [0.73, 0.69, 0.44, 0.55, 0.67, 0.47, 0.08, 0.15, 0.45, 0.35],\n",
        "    'M2': [0.61, 0.03, 0.68, 0.31, 0.45, 0.09, 0.38, 0.05, 0.01, 0.04]\n",
        "})\n",
        "\n",
        "from sklearn.metrics import roc_curve, auc\n",
        "import matplotlib.pyplot as plt\n",
        "\n",
        "def plot_roc(y_true, probs, label):\n",
        "    fpr, tpr, _ = roc_curve(y_true, probs, pos_label='+')\n",
        "    roc_auc = auc(fpr, tpr)\n",
        "    plt.plot(fpr, tpr, label=f'{label} (AUC = {roc_auc:.2f})')\n",
        "\n",
        "plt.figure()\n",
        "plot_roc(data['True Class'], data['M1'], 'M1')\n",
        "plot_roc(data['True Class'], data['M2'], 'M2')\n",
        "plt.xlabel('False Positive Rate')\n",
        "plt.ylabel('True Positive Rate')\n",
        "plt.legend()\n",
        "plt.show()\n",
        "\n",
        "from sklearn.metrics import precision_score, recall_score, f1_score\n",
        "\n",
        "def evaluate_model(probabilities, threshold, true_labels):\n",
        "    preds = ['+' if p > threshold else '-' for p in probabilities]\n",
        "    precision = precision_score(true_labels, preds, pos_label='+')\n",
        "    recall = recall_score(true_labels, preds, pos_label='+')\n",
        "    f1 = f1_score(true_labels, preds, pos_label='+')\n",
        "    return precision, recall, f1\n",
        "#I am taking M1 as t=0.5 for this case\n",
        "\n",
        "print(\"+_+_+_+_+_+_+_+_+_+_+_+_+_+_+_+_+_ \",evaluate_model(data['M1'], 0.5, data['True Class']),\"+_+_+_+_+_+_+_+_+_+_+_+_+_+_+_+_+_ \")"
      ],
      "metadata": {
        "colab": {
          "base_uri": "https://localhost:8080/",
          "height": 467
        },
        "id": "qbdCgfXEVrOd",
        "outputId": "fa2152de-01e7-42eb-e8d8-1701dd712a7c"
      },
      "execution_count": null,
      "outputs": [
        {
          "output_type": "display_data",
          "data": {
            "text/plain": [
              "<Figure size 640x480 with 1 Axes>"
            ],
            "image/png": "[encoded data removed]"
          },
          "metadata": {}
        },
        {
          "output_type": "stream",
          "name": "stdout",
          "text": [
            "+_+_+_+_+_+_+_+_+_+_+_+_+_+_+_+_+_  (0.75, 0.6, 0.6666666666666666) +_+_+_+_+_+_+_+_+_+_+_+_+_+_+_+_+_ \n"
          ]
        }
      ]
    },
    {
      "cell_type": "markdown",
      "source": [
        "##Question 4\n",
        "\n",
        "## Solutions to this question is given in the Google Drive document\n",
        "\n"
      ],
      "metadata": {
        "id": "-U0Azb_6V4OK"
      }
    },
    {
      "cell_type": "markdown",
      "source": [
        "##Question 5\n"
      ],
      "metadata": {
        "id": "EdfD8dJOdKBb"
      }
    },
    {
      "cell_type": "markdown",
      "source": [
        "Error Rate =\n",
        "Total Test Instances/Number of Negatives\n",
        "​"
      ],
      "metadata": {
        "id": "BnvKzNV-dtCc"
      }
    },
    {
      "cell_type": "code",
      "source": [
        "def expected_error(true_ratio, pred_positive_prob):\n",
        "\n",
        "    error = (1 - true_ratio) * pred_positive_prob + true_ratio * (1 - pred_positive_prob)\n",
        "    return error\n",
        "\n",
        "print(\"Part (a):\", expected_error(0.5, 1.0))\n",
        "print(\"Part (b):\", expected_error(0.5, 0.8))\n",
        "print(\"Part (c):\", expected_error(2/3, 1.0))\n",
        "print(\"Part (d):\", expected_error(2/3, 2/3))"
      ],
      "metadata": {
        "colab": {
          "base_uri": "https://localhost:8080/"
        },
        "id": "Qnv6DPYHdLVT",
        "outputId": "a7ec89e0-edc9-4bfd-f817-abb0619a6763"
      },
      "execution_count": null,
      "outputs": [
        {
          "output_type": "stream",
          "name": "stdout",
          "text": [
            "Part (a): 0.5\n",
            "Part (b): 0.5\n",
            "Part (c): 0.33333333333333337\n",
            "Part (d): 0.4444444444444445\n"
          ]
        }
      ]
    },
    {
      "cell_type": "markdown",
      "source": [
        "##Question 6\n"
      ],
      "metadata": {
        "id": "j_PQ3dofA2GN"
      }
    },
    {
      "cell_type": "code",
      "source": [
        "import numpy as np\n",
        "import pandas as pd\n",
        "from sklearn.tree import DecisionTreeClassifier\n",
        "from sklearn.metrics import accuracy_score\n",
        "\n",
        "np.random.seed(42)\n",
        "\n",
        "random_numbers = np.random.rand(120)\n",
        "labels = np.array([1]*60 + [-1]*60)\n",
        "dataset = pd.DataFrame({'Random_Value': random_numbers, 'Class': labels}).sample(frac=1).reset_index(drop=True)\n",
        "dataset.to_csv(\"training_dataset.csv\", index=False)\n",
        "\n",
        "random_numbers_test = np.random.rand(120)\n",
        "labels_test = np.array([1]*60 + [-1]*60)\n",
        "testing_dataset = pd.DataFrame({'Random_Value': random_numbers_test, 'Class': labels_test}).sample(frac=1).reset_index(drop=True)\n",
        "testing_dataset.to_csv(\"testing_dataset.csv\", index=False)\n",
        "\n",
        "random_numbers_b = np.random.rand(100)\n",
        "labels_b = np.array([1]*80 + [-1]*20)\n",
        "dataset_b = pd.DataFrame({'Random_Value': random_numbers_b, 'Class': labels_b}).sample(frac=1).reset_index(drop=True)\n",
        "dataset_b.to_csv(\"dataset_b.csv\", index=False)\n",
        "\n",
        "random_numbers_d = np.random.rand(100)\n",
        "labels_d = np.array([1]*80 + [-1]*20)\n",
        "dataset_d = pd.DataFrame({'Random_Value': random_numbers_d, 'Class': labels_d}).sample(frac=1).reset_index(drop=True)\n",
        "dataset_d.to_csv(\"dataset_d.csv\", index=False)\n",
        "\n",
        "train_data = pd.read_csv(\"training_dataset.csv\")\n",
        "test_data = pd.read_csv(\"testing_dataset.csv\")\n",
        "X_train, y_train = train_data[['Random_Value']], train_data['Class']\n",
        "X_test, y_test = test_data[['Random_Value']], test_data['Class']\n",
        "\n",
        "clf = DecisionTreeClassifier(random_state=42)\n",
        "clf.fit(X_train, y_train)\n",
        "y_pred = clf.predict(X_test)\n",
        "accuracy = accuracy_score(y_test, y_pred)\n",
        "print(f\"Decision Tree Accuracy: {accuracy:.2f}\")\n",
        "\n",
        "dataset_d = pd.read_csv(\"dataset_d.csv\")\n",
        "X_d, y_d = dataset_d[['Random_Value']], dataset_d['Class']\n",
        "clf.fit(X_d, y_d)\n",
        "y_pred_d = clf.predict(X_d)\n",
        "accuracy_d = accuracy_score(y_d, y_pred_d)\n",
        "print(f\"Decision Tree Accuracy on dataset_d: {accuracy_d:.2f}\")\n"
      ],
      "metadata": {
        "colab": {
          "base_uri": "https://localhost:8080/"
        },
        "id": "-jTY8LkgCrOf",
        "outputId": "a146d847-1740-4e51-f8b2-99ff2a2f073b"
      },
      "execution_count": null,
      "outputs": [
        {
          "output_type": "stream",
          "name": "stdout",
          "text": [
            "Decision Tree Accuracy: 0.42\n",
            "Decision Tree Accuracy on dataset_d: 1.00\n"
          ]
        }
      ]
    },
    {
      "cell_type": "markdown",
      "source": [
        "##Question 7\n",
        "PCA helps reduce dimensionality while retaining most variance.\n",
        "\n",
        "Decision Tree on original data performs better, but PCA-reduced data still provides good classification.\n",
        "\n",
        "PCA is useful for visualization and reducing noise, but some information loss occurs."
      ],
      "metadata": {
        "id": "NGkIjquQdxXS"
      }
    },
    {
      "cell_type": "code",
      "source": [
        "import numpy as np\n",
        "import pandas as pd\n",
        "from numpy.linalg import svd\n",
        "from sklearn.decomposition import PCA\n",
        "from sklearn.model_selection import train_test_split\n",
        "from sklearn.tree import DecisionTreeClassifier\n",
        "from sklearn.metrics import accuracy_score\n",
        "from sklearn import datasets\n",
        "\n",
        "iris = datasets.load_iris()\n",
        "\n",
        "iris_df = pd.DataFrame(data=iris.data, columns=iris.feature_names)\n",
        "X = iris_df.iloc[:, :-1].values\n",
        "\n",
        "X_centered = X - X.mean(axis=0)\n",
        "\n",
        "U, s, Vt = svd(X_centered)\n",
        "\n",
        "c1 = Vt.T[:, 0]\n",
        "c2 = Vt.T[:, 1]\n",
        "explained_variance = (s ** 2) / np.sum(s ** 2)\n",
        "variance_captured = explained_variance[:2].sum()\n",
        "\n",
        "print(\"Principal Component 1:\", c1)\n",
        "print(\"Principal Component 2:\", c2)\n",
        "print(\"Variance Captured by First Two Components:\", variance_captured)\n",
        "\n",
        "pca = PCA(n_components=2)\n",
        "X2D = pca.fit_transform(X)\n",
        "cumsum = np.cumsum(pca.explained_variance_ratio_)\n",
        "\n",
        "print(\"Principal Components from Sklearn PCA:\\n\", pca.components_)\n",
        "print(\"Variance Captured by First Two Components:\", cumsum[1])\n",
        "y = iris.target  # Target labels\n",
        "\n",
        "X_train, X_test, y_train, y_test = train_test_split(X, y, test_size=0.2, random_state=42)\n",
        "\n",
        "\n",
        "clf_original = DecisionTreeClassifier(random_state=42)\n",
        "clf_original.fit(X_train, y_train)\n",
        "y_pred_original = clf_original.predict(X_test)\n",
        "accuracy_original = accuracy_score(y_test, y_pred_original)\n",
        "\n",
        "X_train_pca, X_test_pca, y_train_pca, y_test_pca = train_test_split(X2D, y, test_size=0.2, random_state=42)\n",
        "clf_pca = DecisionTreeClassifier(random_state=42)\n",
        "clf_pca.fit(X_train_pca, y_train_pca)\n",
        "y_pred_pca = clf_pca.predict(X_test_pca)\n",
        "accuracy_pca = accuracy_score(y_test_pca, y_pred_pca)\n",
        "\n",
        "print(\"Decision Tree Accuracy on Original Dataset:\", accuracy_original)\n",
        "print(\"Decision Tree Accuracy on PCA-Transformed Dataset:\", accuracy_pca)"
      ],
      "metadata": {
        "colab": {
          "base_uri": "https://localhost:8080/"
        },
        "id": "zx7htppdDyB2",
        "outputId": "fe4e4e3c-d1dc-4681-94de-06b1fe5579a9"
      },
      "execution_count": null,
      "outputs": [
        {
          "output_type": "stream",
          "name": "stdout",
          "text": [
            "Principal Component 1: [ 0.38983343 -0.09100801  0.91637735]\n",
            "Principal Component 2: [-0.63922328 -0.74305866  0.19813487]\n",
            "Variance Captured by First Two Components: 0.9851065996291114\n",
            "Principal Components from Sklearn PCA:\n",
            " [[ 0.38983343 -0.09100801  0.91637735]\n",
            " [ 0.63922328  0.74305866 -0.19813487]]\n",
            "Variance Captured by First Two Components: 0.985106599629115\n",
            "Decision Tree Accuracy on Original Dataset: 1.0\n",
            "Decision Tree Accuracy on PCA-Transformed Dataset: 0.9333333333333333\n"
          ]
        }
      ]
    },
    {
      "cell_type": "markdown",
      "source": [
        "##Question 8\n",
        "\n",
        "\n",
        "Random Split Selection:\n",
        "\n",
        "In Random Forest, each decision tree splits a node by selecting the best feature and the best threshold based on a criterion\n",
        "\n",
        "In Extra-Trees, both the feature and the split threshold are chosen randomly, rather than selecting the best threshold.\n",
        "\n",
        "No Bootstrapping (No Resampling):\n",
        "\n",
        "Random Forest builds trees using bootstrap sampling (sampling with replacement).\n",
        "\n",
        "Extra-Trees do not use bootstrapping; they train on the entire dataset, making them computationally more efficient."
      ],
      "metadata": {
        "id": "9YrG2HDLFX5Z"
      }
    },
    {
      "cell_type": "code",
      "source": [
        "import time\n",
        "import numpy as np\n",
        "import pandas as pd\n",
        "from sklearn.ensemble import ExtraTreesClassifier, RandomForestClassifier\n",
        "from sklearn.model_selection import train_test_split\n",
        "from sklearn.metrics import accuracy_score\n",
        "\n",
        "sonar = pd.read_csv(\"/content/sonar_test (1).csv\")\n",
        "X = sonar.iloc[:, :-1].values\n",
        "y = sonar.iloc[:, -1].values\n",
        "X_train, X_test, y_train, y_test = train_test_split(X, y, test_size=0.2, random_state=42)\n",
        "\n",
        "rf = RandomForestClassifier(n_estimators=100, random_state=42)\n",
        "start_time = time.time()\n",
        "rf.fit(X_train, y_train)\n",
        "rf_train_time = time.time() - start_time\n",
        "\n",
        "et = ExtraTreesClassifier(n_estimators=100, random_state=42)\n",
        "start_time = time.time()\n",
        "et.fit(X_train, y_train)\n",
        "et_train_time = time.time() - start_time\n",
        "\n",
        "print(\"Training Time (Random Forest):\", rf_train_time)\n",
        "print(\"Training Time (Extra-Trees):\", et_train_time)\n"
      ],
      "metadata": {
        "colab": {
          "base_uri": "https://localhost:8080/"
        },
        "id": "ZDGbp5vZFC8v",
        "outputId": "6e7436cf-06b7-49b9-d4ae-9483a05f0b17"
      },
      "execution_count": null,
      "outputs": [
        {
          "output_type": "stream",
          "name": "stdout",
          "text": [
            "Training Time (Random Forest): 0.1556689739227295\n",
            "Training Time (Extra-Trees): 0.10246109962463379\n"
          ]
        }
      ]
    },
    {
      "cell_type": "code",
      "source": [
        "sonar_test = pd.read_csv(\"/content/sonar_test (1).csv\")\n",
        "X_test_sonar = sonar_test.iloc[:, :-1].values\n",
        "y_test_sonar = sonar_test.iloc[:, -1].values\n",
        "y_pred_rf = rf.predict(X_test_sonar)\n",
        "rf_accuracy = accuracy_score(y_test_sonar, y_pred_rf)\n",
        "y_pred_et = et.predict(X_test_sonar)\n",
        "et_accuracy = accuracy_score(y_test_sonar, y_pred_et)\n",
        "\n",
        "print(\"Accuracy (Random Forest):\", rf_accuracy)\n",
        "print(\"Accuracy (Extra-Trees):\", et_accuracy)\n"
      ],
      "metadata": {
        "colab": {
          "base_uri": "https://localhost:8080/"
        },
        "id": "FWZquSDAJBL-",
        "outputId": "c6045645-c6fb-485f-ed72-7ba114e05bae"
      },
      "execution_count": null,
      "outputs": [
        {
          "output_type": "stream",
          "name": "stdout",
          "text": [
            "Accuracy (Random Forest): 0.935064935064935\n",
            "Accuracy (Extra-Trees): 0.948051948051948\n"
          ]
        }
      ]
    },
    {
      "cell_type": "markdown",
      "source": [
        "##Question 9"
      ],
      "metadata": {
        "id": "zpycem8FIoZ7"
      }
    },
    {
      "source": [
        "import pandas as pd\n",
        "import numpy as np\n",
        "from sklearn.model_selection import train_test_split\n",
        "from sklearn.ensemble import BaggingClassifier, AdaBoostClassifier\n",
        "from sklearn.tree import DecisionTreeClassifier\n",
        "from sklearn.metrics import accuracy_score\n",
        "\n",
        "\n",
        "bank_data = pd.read_csv(\"/content/UniversalBank - Copy.csv\")\n",
        "\n",
        "X = bank_data.drop(columns=[\"Personal Loan\"])\n",
        "y = bank_data[\"Personal Loan\"]\n",
        "\n",
        "X_train, X_test, y_train, y_test = train_test_split(X, y, test_size=0.2, random_state=42)\n",
        "\n",
        "base_clf = DecisionTreeClassifier(max_depth=3, random_state=42)\n",
        "\n",
        "bagging_clf = BaggingClassifier(estimator=base_clf, n_estimators=50, random_state=42)\n",
        "bagging_clf.fit(X_train, y_train)\n",
        "y_pred_bagging = bagging_clf.predict(X_test)\n",
        "bagging_acc = accuracy_score(y_test, y_pred_bagging)\n",
        "\n",
        "adaboost_clf = AdaBoostClassifier(estimator=base_clf, n_estimators=50, random_state=42)\n",
        "adaboost_clf.fit(X_train, y_train)\n",
        "y_pred_adaboost = adaboost_clf.predict(X_test)\n",
        "adaboost_acc = accuracy_score(y_test, y_pred_adaboost)\n",
        "\n",
        "\n",
        "print(\"Bagging Accuracy:\", bagging_acc)\n",
        "print(\"AdaBoost Accuracy:\", adaboost_acc)"
      ],
      "cell_type": "code",
      "metadata": {
        "colab": {
          "base_uri": "https://localhost:8080/"
        },
        "id": "Ue9aupc5NZFH",
        "outputId": "b185c85a-f51e-4e9a-ca7b-8bb21dcb8120"
      },
      "execution_count": null,
      "outputs": [
        {
          "output_type": "stream",
          "name": "stdout",
          "text": [
            "Bagging Accuracy: 0.985\n",
            "AdaBoost Accuracy: 0.991\n"
          ]
        }
      ]
    },
    {
      "cell_type": "code",
      "source": [
        "import numpy as np\n",
        "import pandas as pd\n",
        "from sklearn.model_selection import cross_val_score, GridSearchCV\n",
        "from sklearn.ensemble import RandomForestClassifier\n",
        "from sklearn.datasets import load_iris\n",
        "\n",
        "data = load_iris()\n",
        "X, y = data.data, data.target\n",
        "\n",
        "param_grid = {\n",
        "    \"n_estimators\": [50, 100, 150],\n",
        "    \"max_depth\": [3, 5, 10]\n",
        "}\n",
        "\n",
        "inner_cv = 3\n",
        "outer_cv = 3\n",
        "\n",
        "rf = RandomForestClassifier(random_state=42)\n",
        "grid_search = GridSearchCV(rf, param_grid, cv=inner_cv, scoring=\"accuracy\")\n",
        "nested_scores = cross_val_score(grid_search, X, y, cv=outer_cv)\n",
        "\n",
        "print(\"Nested Cross-Validation Accuracy Scores:\", nested_scores)\n",
        "print(\"Mean Accuracy:\", np.mean(nested_scores))\n",
        "\n"
      ],
      "metadata": {
        "colab": {
          "base_uri": "https://localhost:8080/"
        },
        "id": "57EJQxVBN9AW",
        "outputId": "19eff11b-ad17-4054-d03b-132428a33f0e"
      },
      "execution_count": null,
      "outputs": [
        {
          "output_type": "stream",
          "name": "stdout",
          "text": [
            "Nested Cross-Validation Accuracy Scores: [0.98 0.94 0.98]\n",
            "Mean Accuracy: 0.9666666666666667\n"
          ]
        }
      ]
    },
    {
      "cell_type": "markdown",
      "source": [
        "## KNN comparison\n"
      ],
      "metadata": {
        "id": "IkGu4feHOoEp"
      }
    },
    {
      "cell_type": "code",
      "source": [
        "import numpy as np\n",
        "import matplotlib.pyplot as plt\n",
        "from collections import Counter\n",
        "\n",
        "data_points = np.array([1.0, 2.0, 2.5, 3.5, 4.0, 4.5, 5.5, 6.0, 6.5, 7.0])\n",
        "labels = np.array([-1, -1, -1, 1, 1, -1, 1, 1, -1, 1])\n",
        "r = 5.0\n",
        "\n",
        "distances = np.abs(data_points - r)\n",
        "sorted_indices = np.argsort(distances)\n",
        "sorted_distances = distances[sorted_indices]\n",
        "sorted_labels = labels[sorted_indices]\n",
        "\n",
        "def knn_majority_vote(k):\n",
        "    nearest_labels = sorted_labels[:k]\n",
        "    return Counter(nearest_labels).most_common(1)[0][0]\n",
        "\n",
        "def knn_distance_weighted_vote(k):\n",
        "    nearest_distances = sorted_distances[:k]\n",
        "    nearest_labels = sorted_labels[:k]\n",
        "    weights = 1 / (nearest_distances + 1e-5)\n",
        "    weighted_votes = {}\n",
        "\n",
        "    for label, weight in zip(nearest_labels, weights):\n",
        "        weighted_votes[label] = weighted_votes.get(label, 0) + weight\n",
        "\n",
        "    return max(weighted_votes, key=weighted_votes.get)\n",
        "\n",
        "k_values = [1, 3, 5, 9]\n",
        "majority_vote_results = {k: knn_majority_vote(k) for k in k_values}\n",
        "distance_weighted_results = {k: knn_distance_weighted_vote(k) for k in k_values}\n",
        "\n",
        "print(\"Majority Vote Classification:\", majority_vote_results)\n",
        "print(\"Distance-Weighted Vote Classification:\", distance_weighted_results)\n",
        "\n",
        "plt.figure(figsize=(8, 5))\n",
        "plt.scatter(data_points, np.zeros_like(data_points), c=labels, cmap='bwr', s=100, label=\"Data Points\")\n",
        "plt.scatter(r, 0, c='green', marker='X', s=200, label=\"Query Point (r=5.0)\")\n",
        "\n",
        "for k in k_values:\n",
        "    k_neighbors = data_points[sorted_indices[:k]]\n",
        "    plt.scatter(k_neighbors, np.zeros_like(k_neighbors), edgecolors='black', facecolors='none', s=200, label=f'k={k} Neighbors')\n",
        "\n",
        "plt.axvline(r, color='green', linestyle='--', alpha=0.5)\n",
        "plt.xlabel(\"Feature Value\")\n",
        "plt.title(\"k-NN Classification\")\n",
        "plt.legend()\n",
        "plt.show()\n"
      ],
      "metadata": {
        "colab": {
          "base_uri": "https://localhost:8080/",
          "height": 522
        },
        "id": "Y_rKaV3NN9xm",
        "outputId": "143f5421-0af5-4c4a-86b2-19b3eb732e82"
      },
      "execution_count": null,
      "outputs": [
        {
          "output_type": "stream",
          "name": "stdout",
          "text": [
            "Majority Vote Classification: {1: np.int64(1), 3: np.int64(1), 5: np.int64(1), 9: np.int64(1)}\n",
            "Distance-Weighted Vote Classification: {1: np.int64(1), 3: np.int64(1), 5: np.int64(1), 9: np.int64(1)}\n"
          ]
        },
        {
          "output_type": "display_data",
          "data": {
            "text/plain": [
              "<Figure size 800x500 with 1 Axes>"
            ],
            "image/png": "[encoded data removed]"
          },
          "metadata": {}
        }
      ]
    }
  ]
}